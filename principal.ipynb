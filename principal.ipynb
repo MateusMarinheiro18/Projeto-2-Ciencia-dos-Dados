{
 "cells": [
  {
   "cell_type": "markdown",
   "metadata": {},
   "source": [
    "# Projeto 2 - Ciência dos Dados\n",
    "\n",
    "______________________________________________________"
   ]
  },
  {
   "cell_type": "markdown",
   "metadata": {},
   "source": [
    "## Participantes:\n",
    "\n",
    "\n",
    "Henrique Andrade Albuqurque \n",
    "\n",
    "\n",
    "Mateus Marinheiro \n",
    "\n",
    "\n",
    "Matheus Constante\n",
    "\n",
    "________________________________________"
   ]
  },
  {
   "cell_type": "markdown",
   "metadata": {},
   "source": [
    "## Introdução"
   ]
  },
  {
   "cell_type": "markdown",
   "metadata": {},
   "source": [
    "### Tema:\n",
    "\n",
    "   Previsão da nota média do Enem de um aluno baseado nos seguintes features:\n",
    "\n",
    "### Target:\n",
    " \n",
    " - NU_MEDIA_TOT:\n",
    "   - Média Total (Redação e Prova Objetiva) Ensino Médio Regular corrigida pelo número de participantes.\n",
    "   \n",
    "\n",
    "\n",
    "### Features: \n",
    "\n",
    " - NO_MUNICIPIO_ESCOLA: \n",
    "    - Nome do Município da Escola\n",
    " - TP_DEPENDENCIA_ADM_ESCOLA:\n",
    "   - Tipo da dependência administrativa da entidade (Escola) do Educacenso\n",
    "      - 1- Federal\n",
    "      - 2- Estadual\n",
    "      - 3- Municipal\n",
    "      - 4- Privada\n",
    " - TP_LOCALIZACAO_ESCOLA:\n",
    "    - Tipo da localização da escola\n",
    "      - 1- Urbana\n",
    "      - 2- Rural\n",
    " - INSE:\n",
    "    - Indicador de Nível Socioeconômico da escola - Para melhor descrever o nível socioeconômico das escolas, foram criados seis grupos, de forma que o Grupo 1 congrega as escolas com Inse médio mais baixo e o Grupo 6, com mais alto. (Edição 2015)\n",
    "      - Grupo 1\n",
    "      - Grupo 2\n",
    "      - Grupo 3\n",
    "      - Grupo 4\n",
    "      - Grupo 5\n",
    "      - Grupo 6\n",
    " - PORTE_ESCOLA:\n",
    "    - O indicador de porte da escola defini o tamanho da escola pelo número de alunos matriculados no último ano do Ensino médio\n",
    "      - De 1 a 30 alunos\n",
    "      - De 31 a 60 alunos\n",
    "      - De 61 a 90 alunos\n",
    "      - Maior que 90 alunos\n",
    " \n",
    "\n",
    "________"
   ]
  },
  {
   "cell_type": "markdown",
   "metadata": {},
   "source": [
    "## Referências:\n",
    "\n",
    " - https://www.gov.br/inep/pt-br/acesso-a-informacao/dados-abertos/microdados"
   ]
  }
 ],
 "metadata": {
  "kernelspec": {
   "display_name": "base",
   "language": "python",
   "name": "python3"
  },
  "language_info": {
   "codemirror_mode": {
    "name": "ipython",
    "version": 3
   },
   "file_extension": ".py",
   "mimetype": "text/x-python",
   "name": "python",
   "nbconvert_exporter": "python",
   "pygments_lexer": "ipython3",
   "version": "3.9.13"
  }
 },
 "nbformat": 4,
 "nbformat_minor": 2
}
