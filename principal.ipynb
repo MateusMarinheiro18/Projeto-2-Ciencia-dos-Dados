{
 "cells": [
  {
   "cell_type": "markdown",
   "metadata": {},
   "source": [
    "# Projeto 2 - Ciência dos Dados\n",
    "\n",
    "______________________________________________________"
   ]
  },
  {
   "cell_type": "markdown",
   "metadata": {},
   "source": [
    "## Participantes:\n",
    "\n",
    "\n",
    "Henrique Andrade Albuqurque \n",
    "\n",
    "\n",
    "Mateus Marinheiro \n",
    "\n",
    "\n",
    "Matheus Constante\n",
    "\n",
    "________________________________________"
   ]
  },
  {
   "cell_type": "markdown",
   "metadata": {},
   "source": [
    "## Introdução"
   ]
  },
  {
   "cell_type": "markdown",
   "metadata": {},
   "source": [
    "### Tema:\n",
    "\n",
    "   Previsão da nota média do Enem de um aluno baseado nos seguintes features:\n",
    "\n",
    "### Target:\n",
    " \n",
    " - NU_NOTA_REDACAO:\n",
    "   - Nota final da Redação de 2022 por participante\n",
    "   \n",
    "\n",
    "\n",
    "### Features: \n",
    "\n",
    " - TP_FAIXA_ETARIA:\n",
    "   - Faixa Etária dos participantes\n",
    "      - 1- Menor de 17 anos\n",
    "      - 2- 17 anos\n",
    "      - 3- 18 anos\n",
    "      - 4- 19 anos\n",
    "      - 5- 20 anos\n",
    "      - 6- 21 anos\n",
    "      - 7- 22 anos\n",
    "      - 8- 23 anos\n",
    "      - 9- 24 anos\n",
    "      - 10- 25 anos\n",
    "      - 11- Entre 26 e 30 anos\n",
    "      - 12- Entre 31 e 35 anos\n",
    "      - 13- Entre 36 e 40 anos\n",
    "      - 14- Entre 41 e 45 anos\n",
    "      - 15- Entre 46 e 50 anos\n",
    "      - 16- Entre 51 e 55 anos\n",
    "      - 17- Entre 56 e 60 anos\n",
    "      - 18- Entre 61 e 65 anos\n",
    "      - 19- Entre 66 e 70 anos\n",
    "      - 20- Maior de 70 anos\n",
    "\n",
    " - TP_SEXO: \n",
    "    - Sexo do Participante\n",
    "      - M - Masculino\n",
    "      - F - Feminino\n",
    " - TP_COR_RAÇA:\n",
    "    - Cor/Raça do participante\n",
    "      - 0- Não declarado\n",
    "      - 1- Branca\n",
    "      - 2- Preta\n",
    "      - 3- Parda\n",
    "      - 4- Amarela\n",
    "      - 5- Indígina\n",
    "      - 6- Não dispõe da informação\n",
    " - TP_ANO_CONCLUIU:\n",
    "    - O indicador do ano de conclusão do Ensino Médio\n",
    "      - 0- Não informado\n",
    "      - 1- 2021\n",
    "      - 2- 2020\n",
    "      - 3- 2019\n",
    "      - 4- 2018\n",
    "      - 5- 2017\n",
    "      - 6- 2016\n",
    "      - 7- 2015\n",
    "      - 8- 2014\n",
    "      - 9- 2013\n",
    "      - 10- 2012\n",
    "      - 11- 2011\n",
    "      - 12- 2010\n",
    "      - 13- 2009\n",
    "      - 14- 2008\n",
    "      - 15- 2007\n",
    "      - 16- Antes de 2007\n",
    " - TP_ESCOLA:\n",
    "    - Tipo de escola do Ensino Médio:\n",
    "       - 1- Não respondeu\n",
    "       - 2- Pública\n",
    "       - 3- Privada\n",
    "\n",
    "________"
   ]
  },
  {
   "cell_type": "markdown",
   "metadata": {},
   "source": [
    "Carregando algumas bibliotecas:"
   ]
  },
  {
   "cell_type": "code",
   "execution_count": 18,
   "metadata": {},
   "outputs": [],
   "source": [
    "%matplotlib inline\n",
    "import pandas as pd\n",
    "import matplotlib.pyplot as plt\n",
    "import numpy as np\n",
    "import os"
   ]
  },
  {
   "cell_type": "code",
   "execution_count": 19,
   "metadata": {},
   "outputs": [
    {
     "name": "stdout",
     "output_type": "stream",
     "text": [
      "Esperamos trabalhar no diretório\n",
      "c:\\Users\\Mateus Marinhero\\Documents\\Insper\\2023\\2o Semestre\\Ciência dos Dados\\Projeto2\\Projeto-2-Ciencia-dos-Dados\n"
     ]
    }
   ],
   "source": [
    "print('Esperamos trabalhar no diretório')\n",
    "print(os.getcwd())"
   ]
  },
  {
   "cell_type": "markdown",
   "metadata": {},
   "source": [
    "Carregando a base de dados:"
   ]
  },
  {
   "cell_type": "code",
   "execution_count": 42,
   "metadata": {},
   "outputs": [],
   "source": [
    "dados = pd.read_excel('DADOS\\MICRODADOS_ENEM_ESCOLA.xlsx')\n"
   ]
  },
  {
   "cell_type": "code",
   "execution_count": 43,
   "metadata": {},
   "outputs": [
    {
     "name": "stdout",
     "output_type": "stream",
     "text": [
      "<class 'pandas.core.frame.DataFrame'>\n"
     ]
    }
   ],
   "source": [
    "print(type(dados))"
   ]
  },
  {
   "cell_type": "code",
   "execution_count": 45,
   "metadata": {},
   "outputs": [
    {
     "data": {
      "text/plain": [
       "NU_ANO                         int64\n",
       "CO_UF_ESCOLA                   int64\n",
       "SG_UF_ESCOLA                  object\n",
       "CO_MUNICIPIO_ESCOLA            int64\n",
       "NO_MUNICIPIO_ESCOLA           object\n",
       "CO_ESCOLA_EDUCACENSO           int64\n",
       "NO_ESCOLA_EDUCACENSO          object\n",
       "TP_DEPENDENCIA_ADM_ESCOLA      int64\n",
       "TP_LOCALIZACAO_ESCOLA          int64\n",
       "NU_MATRICULAS                  int64\n",
       "NU_PARTICIPANTES_NEC_ESP     float64\n",
       "NU_PARTICIPANTES               int64\n",
       "NU_TAXA_PARTICIPACAO         float64\n",
       "NU_MEDIA_CN                  float64\n",
       "NU_MEDIA_CH                  float64\n",
       "NU_MEDIA_LP                  float64\n",
       "NU_MEDIA_MT                  float64\n",
       "NU_MEDIA_RED                 float64\n",
       "NU_MEDIA_OBJ                 float64\n",
       "NU_MEDIA_TOT                 float64\n",
       "INSE                          object\n",
       "PC_FORMACAO_DOCENTE          float64\n",
       "NU_TAXA_PERMANENCIA          float64\n",
       "NU_TAXA_APROVACAO            float64\n",
       "NU_TAXA_REPROVACAO           float64\n",
       "NU_TAXA_ABANDONO             float64\n",
       "PORTE_ESCOLA                  object\n",
       "dtype: object"
      ]
     },
     "execution_count": 45,
     "metadata": {},
     "output_type": "execute_result"
    }
   ],
   "source": [
    "dados.dtypes"
   ]
  },
  {
   "cell_type": "code",
   "execution_count": 53,
   "metadata": {},
   "outputs": [
    {
     "data": {
      "text/html": [
       "<div>\n",
       "<style scoped>\n",
       "    .dataframe tbody tr th:only-of-type {\n",
       "        vertical-align: middle;\n",
       "    }\n",
       "\n",
       "    .dataframe tbody tr th {\n",
       "        vertical-align: top;\n",
       "    }\n",
       "\n",
       "    .dataframe thead th {\n",
       "        text-align: right;\n",
       "    }\n",
       "</style>\n",
       "<table border=\"1\" class=\"dataframe\">\n",
       "  <thead>\n",
       "    <tr style=\"text-align: right;\">\n",
       "      <th></th>\n",
       "      <th>NO_MUNICIPIO_ESCOLA</th>\n",
       "      <th>TP_DEPENDENCIA_ADM_ESCOLA</th>\n",
       "      <th>TP_LOCALIZACAO_ESCOLA</th>\n",
       "      <th>NU_MEDIA_TOT</th>\n",
       "      <th>INSE</th>\n",
       "      <th>PORTE_ESCOLA</th>\n",
       "    </tr>\n",
       "  </thead>\n",
       "  <tbody>\n",
       "    <tr>\n",
       "      <th>0</th>\n",
       "      <td>Porto Velho</td>\n",
       "      <td>4</td>\n",
       "      <td>1</td>\n",
       "      <td>69.03</td>\n",
       "      <td>NaN</td>\n",
       "      <td>Maior que 90 alunos</td>\n",
       "    </tr>\n",
       "    <tr>\n",
       "      <th>1</th>\n",
       "      <td>Porto Velho</td>\n",
       "      <td>4</td>\n",
       "      <td>1</td>\n",
       "      <td>57.82</td>\n",
       "      <td>NaN</td>\n",
       "      <td>Maior que 90 alunos</td>\n",
       "    </tr>\n",
       "    <tr>\n",
       "      <th>2</th>\n",
       "      <td>Porto Velho</td>\n",
       "      <td>4</td>\n",
       "      <td>1</td>\n",
       "      <td>64.83</td>\n",
       "      <td>NaN</td>\n",
       "      <td>Maior que 90 alunos</td>\n",
       "    </tr>\n",
       "    <tr>\n",
       "      <th>3</th>\n",
       "      <td>Porto Velho</td>\n",
       "      <td>4</td>\n",
       "      <td>1</td>\n",
       "      <td>NaN</td>\n",
       "      <td>NaN</td>\n",
       "      <td>Maior que 90 alunos</td>\n",
       "    </tr>\n",
       "    <tr>\n",
       "      <th>4</th>\n",
       "      <td>Porto Velho</td>\n",
       "      <td>4</td>\n",
       "      <td>1</td>\n",
       "      <td>58.84</td>\n",
       "      <td>NaN</td>\n",
       "      <td>De 1 a 30 alunos</td>\n",
       "    </tr>\n",
       "    <tr>\n",
       "      <th>...</th>\n",
       "      <td>...</td>\n",
       "      <td>...</td>\n",
       "      <td>...</td>\n",
       "      <td>...</td>\n",
       "      <td>...</td>\n",
       "      <td>...</td>\n",
       "    </tr>\n",
       "    <tr>\n",
       "      <th>172300</th>\n",
       "      <td>Brasília</td>\n",
       "      <td>2</td>\n",
       "      <td>1</td>\n",
       "      <td>NaN</td>\n",
       "      <td>NaN</td>\n",
       "      <td>Maior que 90 alunos</td>\n",
       "    </tr>\n",
       "    <tr>\n",
       "      <th>172301</th>\n",
       "      <td>Brasília</td>\n",
       "      <td>2</td>\n",
       "      <td>1</td>\n",
       "      <td>NaN</td>\n",
       "      <td>NaN</td>\n",
       "      <td>Maior que 90 alunos</td>\n",
       "    </tr>\n",
       "    <tr>\n",
       "      <th>172302</th>\n",
       "      <td>Brasília</td>\n",
       "      <td>2</td>\n",
       "      <td>1</td>\n",
       "      <td>NaN</td>\n",
       "      <td>Grupo 3</td>\n",
       "      <td>Maior que 90 alunos</td>\n",
       "    </tr>\n",
       "    <tr>\n",
       "      <th>172303</th>\n",
       "      <td>Brasília</td>\n",
       "      <td>4</td>\n",
       "      <td>1</td>\n",
       "      <td>NaN</td>\n",
       "      <td>NaN</td>\n",
       "      <td>De 1 a 30 alunos</td>\n",
       "    </tr>\n",
       "    <tr>\n",
       "      <th>172304</th>\n",
       "      <td>Brasília</td>\n",
       "      <td>4</td>\n",
       "      <td>1</td>\n",
       "      <td>NaN</td>\n",
       "      <td>Grupo 5</td>\n",
       "      <td>De 1 a 30 alunos</td>\n",
       "    </tr>\n",
       "  </tbody>\n",
       "</table>\n",
       "<p>172305 rows × 6 columns</p>\n",
       "</div>"
      ],
      "text/plain": [
       "       NO_MUNICIPIO_ESCOLA  TP_DEPENDENCIA_ADM_ESCOLA  TP_LOCALIZACAO_ESCOLA  \\\n",
       "0              Porto Velho                          4                      1   \n",
       "1              Porto Velho                          4                      1   \n",
       "2              Porto Velho                          4                      1   \n",
       "3              Porto Velho                          4                      1   \n",
       "4              Porto Velho                          4                      1   \n",
       "...                    ...                        ...                    ...   \n",
       "172300            Brasília                          2                      1   \n",
       "172301            Brasília                          2                      1   \n",
       "172302            Brasília                          2                      1   \n",
       "172303            Brasília                          4                      1   \n",
       "172304            Brasília                          4                      1   \n",
       "\n",
       "        NU_MEDIA_TOT     INSE         PORTE_ESCOLA  \n",
       "0              69.03      NaN  Maior que 90 alunos  \n",
       "1              57.82      NaN  Maior que 90 alunos  \n",
       "2              64.83      NaN  Maior que 90 alunos  \n",
       "3                NaN      NaN  Maior que 90 alunos  \n",
       "4              58.84      NaN     De 1 a 30 alunos  \n",
       "...              ...      ...                  ...  \n",
       "172300           NaN      NaN  Maior que 90 alunos  \n",
       "172301           NaN      NaN  Maior que 90 alunos  \n",
       "172302           NaN  Grupo 3  Maior que 90 alunos  \n",
       "172303           NaN      NaN     De 1 a 30 alunos  \n",
       "172304           NaN  Grupo 5     De 1 a 30 alunos  \n",
       "\n",
       "[172305 rows x 6 columns]"
      ]
     },
     "execution_count": 53,
     "metadata": {},
     "output_type": "execute_result"
    }
   ],
   "source": [
    "# Criando base de dados com os filtros baseados no target e nos features\n",
    "\n",
    "dados = dados.loc[:,['NO_MUNICIPIO_ESCOLA', 'TP_DEPENDENCIA_ADM_ESCOLA', 'TP_LOCALIZACAO_ESCOLA', 'NU_MEDIA_TOT', 'INSE', 'PORTE_ESCOLA']]\n",
    "dados"
   ]
  },
  {
   "cell_type": "code",
   "execution_count": 56,
   "metadata": {},
   "outputs": [
    {
     "data": {
      "text/html": [
       "<div>\n",
       "<style scoped>\n",
       "    .dataframe tbody tr th:only-of-type {\n",
       "        vertical-align: middle;\n",
       "    }\n",
       "\n",
       "    .dataframe tbody tr th {\n",
       "        vertical-align: top;\n",
       "    }\n",
       "\n",
       "    .dataframe thead th {\n",
       "        text-align: right;\n",
       "    }\n",
       "</style>\n",
       "<table border=\"1\" class=\"dataframe\">\n",
       "  <thead>\n",
       "    <tr style=\"text-align: right;\">\n",
       "      <th></th>\n",
       "      <th>NO_MUNICIPIO_ESCOLA</th>\n",
       "      <th>TP_DEPENDENCIA_ADM_ESCOLA</th>\n",
       "      <th>TP_LOCALIZACAO_ESCOLA</th>\n",
       "      <th>NU_MEDIA_TOT</th>\n",
       "      <th>INSE</th>\n",
       "      <th>PORTE_ESCOLA</th>\n",
       "    </tr>\n",
       "  </thead>\n",
       "  <tbody>\n",
       "  </tbody>\n",
       "</table>\n",
       "</div>"
      ],
      "text/plain": [
       "Empty DataFrame\n",
       "Columns: [NO_MUNICIPIO_ESCOLA, TP_DEPENDENCIA_ADM_ESCOLA, TP_LOCALIZACAO_ESCOLA, NU_MEDIA_TOT, INSE, PORTE_ESCOLA]\n",
       "Index: []"
      ]
     },
     "execution_count": 56,
     "metadata": {},
     "output_type": "execute_result"
    }
   ],
   "source": [
    "#Limapando os dados de linhas com valores nulos\n",
    "\n",
    "dados = dados.loc[(dados['NU_MEDIA_TOT'].notnull()) & (dados['INSE'].notnull()) & (dados['PORTE_ESCOLA'].notnull())]\n",
    "dados"
   ]
  },
  {
   "cell_type": "markdown",
   "metadata": {},
   "source": [
    "## Referências:\n",
    "\n",
    " - https://www.gov.br/inep/pt-br/acesso-a-informacao/dados-abertos/microdados"
   ]
  }
 ],
 "metadata": {
  "kernelspec": {
   "display_name": "base",
   "language": "python",
   "name": "python3"
  },
  "language_info": {
   "codemirror_mode": {
    "name": "ipython",
    "version": 3
   },
   "file_extension": ".py",
   "mimetype": "text/x-python",
   "name": "python",
   "nbconvert_exporter": "python",
   "pygments_lexer": "ipython3",
   "version": "3.9.13"
  }
 },
 "nbformat": 4,
 "nbformat_minor": 2
}
